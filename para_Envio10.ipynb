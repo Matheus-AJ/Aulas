{
  "nbformat": 4,
  "nbformat_minor": 0,
  "metadata": {
    "colab": {
      "provenance": [],
      "authorship_tag": "ABX9TyM6Dlbl8FLvUBJDOt9KUPJL",
      "include_colab_link": true
    },
    "kernelspec": {
      "name": "python3",
      "display_name": "Python 3"
    },
    "language_info": {
      "name": "python"
    }
  },
  "cells": [
    {
      "cell_type": "markdown",
      "metadata": {
        "id": "view-in-github",
        "colab_type": "text"
      },
      "source": [
        "<a href=\"https://colab.research.google.com/github/Matheus-AJ/Aulas/blob/main/para_Envio10.ipynb\" target=\"_parent\"><img src=\"https://colab.research.google.com/assets/colab-badge.svg\" alt=\"Open In Colab\"/></a>"
      ]
    },
    {
      "cell_type": "code",
      "source": [
        "# Importar bibliotecas\n",
        "import tensorflow as tf\n",
        "import pandas as pd\n",
        "from sklearn.datasets import load_iris\n",
        "from sklearn.model_selection import train_test_split\n",
        "from sklearn.preprocessing import StandardScaler\n",
        "# Carregar conjunto de dados Iris\n",
        "3\n",
        "iris = load_iris()\n",
        "X = iris.data\n",
        "y = iris.target\n",
        "\n",
        "X_train, X_test, y_train, y_test = train_test_split(X, y, test_size=0.2, random_state=42)\n",
        "\n",
        "# Construir o modelo\n",
        "model = tf.keras.Sequential([\n",
        "    tf.keras.layers.Dense(10, activation='relu', input_shape=(X_train_scaled.shape[1],)),\n",
        "    tf.keras.layers.Dense(10, activation='relu'),\n",
        "    tf.keras.layers.Dense(3, activation='softmax') # 3 classes for Iris dataset\n",
        "])\n",
        "\n",
        "# Compilar o modelo\n",
        "model.compile(optimizer='adam',\n",
        "              loss='sparse_categorical_crossentropy',\n",
        "              metrics=['accuracy'])\n",
        "\n",
        "# Treinar o modelo\n",
        "history = model.fit(X_train_scaled, y_train, epochs=50, batch_size=32, validation_split=0.1)\n",
        "\n",
        "# Avaliar o modelo\n",
        "loss, accuracy = model.evaluate(X_test_scaled, y_test)\n",
        "print(f'Loss: {loss:.4f}')\n",
        "print(f'Accuracy: {accuracy:.4f}')\n",
        "# Fazer Previsões\n",
        "predictions = model.predict(X_test_scaled)\n",
        "\n",
        "print(\"previsão:\", predictions)\n",
        "\n",
        "\n"
      ],
      "metadata": {
        "colab": {
          "base_uri": "https://localhost:8080/"
        },
        "id": "3i1CheOcCUHM",
        "outputId": "d2702cb8-e829-41b8-f13d-e463e39c74f1"
      },
      "execution_count": null,
      "outputs": [
        {
          "output_type": "stream",
          "name": "stdout",
          "text": [
            "Epoch 1/50\n"
          ]
        },
        {
          "output_type": "stream",
          "name": "stderr",
          "text": [
            "/usr/local/lib/python3.12/dist-packages/keras/src/layers/core/dense.py:93: UserWarning: Do not pass an `input_shape`/`input_dim` argument to a layer. When using Sequential models, prefer using an `Input(shape)` object as the first layer in the model instead.\n",
            "  super().__init__(activity_regularizer=activity_regularizer, **kwargs)\n"
          ]
        },
        {
          "output_type": "stream",
          "name": "stdout",
          "text": [
            "\u001b[1m4/4\u001b[0m \u001b[32m━━━━━━━━━━━━━━━━━━━━\u001b[0m\u001b[37m\u001b[0m \u001b[1m1s\u001b[0m 82ms/step - accuracy: 0.3464 - loss: 1.0411 - val_accuracy: 0.4167 - val_loss: 0.9146\n",
            "Epoch 2/50\n",
            "\u001b[1m4/4\u001b[0m \u001b[32m━━━━━━━━━━━━━━━━━━━━\u001b[0m\u001b[37m\u001b[0m \u001b[1m0s\u001b[0m 23ms/step - accuracy: 0.3568 - loss: 1.0039 - val_accuracy: 0.4167 - val_loss: 0.8993\n",
            "Epoch 3/50\n",
            "\u001b[1m4/4\u001b[0m \u001b[32m━━━━━━━━━━━━━━━━━━━━\u001b[0m\u001b[37m\u001b[0m \u001b[1m0s\u001b[0m 24ms/step - accuracy: 0.3819 - loss: 0.9657 - val_accuracy: 0.4167 - val_loss: 0.8845\n",
            "Epoch 4/50\n",
            "\u001b[1m4/4\u001b[0m \u001b[32m━━━━━━━━━━━━━━━━━━━━\u001b[0m\u001b[37m\u001b[0m \u001b[1m0s\u001b[0m 24ms/step - accuracy: 0.3267 - loss: 0.9684 - val_accuracy: 0.4167 - val_loss: 0.8711\n",
            "Epoch 5/50\n",
            "\u001b[1m4/4\u001b[0m \u001b[32m━━━━━━━━━━━━━━━━━━━━\u001b[0m\u001b[37m\u001b[0m \u001b[1m0s\u001b[0m 23ms/step - accuracy: 0.3785 - loss: 0.9230 - val_accuracy: 0.5000 - val_loss: 0.8601\n",
            "Epoch 6/50\n",
            "\u001b[1m4/4\u001b[0m \u001b[32m━━━━━━━━━━━━━━━━━━━━\u001b[0m\u001b[37m\u001b[0m \u001b[1m0s\u001b[0m 24ms/step - accuracy: 0.4277 - loss: 0.9133 - val_accuracy: 0.5000 - val_loss: 0.8495\n",
            "Epoch 7/50\n",
            "\u001b[1m4/4\u001b[0m \u001b[32m━━━━━━━━━━━━━━━━━━━━\u001b[0m\u001b[37m\u001b[0m \u001b[1m0s\u001b[0m 23ms/step - accuracy: 0.4200 - loss: 0.9054 - val_accuracy: 0.5000 - val_loss: 0.8391\n",
            "Epoch 8/50\n",
            "\u001b[1m4/4\u001b[0m \u001b[32m━━━━━━━━━━━━━━━━━━━━\u001b[0m\u001b[37m\u001b[0m \u001b[1m0s\u001b[0m 23ms/step - accuracy: 0.4899 - loss: 0.8628 - val_accuracy: 0.5000 - val_loss: 0.8287\n",
            "Epoch 9/50\n",
            "\u001b[1m4/4\u001b[0m \u001b[32m━━━━━━━━━━━━━━━━━━━━\u001b[0m\u001b[37m\u001b[0m \u001b[1m0s\u001b[0m 24ms/step - accuracy: 0.4576 - loss: 0.8571 - val_accuracy: 0.5833 - val_loss: 0.8182\n",
            "Epoch 10/50\n",
            "\u001b[1m4/4\u001b[0m \u001b[32m━━━━━━━━━━━━━━━━━━━━\u001b[0m\u001b[37m\u001b[0m \u001b[1m0s\u001b[0m 23ms/step - accuracy: 0.5084 - loss: 0.8210 - val_accuracy: 0.5833 - val_loss: 0.8077\n",
            "Epoch 11/50\n",
            "\u001b[1m4/4\u001b[0m \u001b[32m━━━━━━━━━━━━━━━━━━━━\u001b[0m\u001b[37m\u001b[0m \u001b[1m0s\u001b[0m 24ms/step - accuracy: 0.5295 - loss: 0.8159 - val_accuracy: 0.5833 - val_loss: 0.7972\n",
            "Epoch 12/50\n",
            "\u001b[1m4/4\u001b[0m \u001b[32m━━━━━━━━━━━━━━━━━━━━\u001b[0m\u001b[37m\u001b[0m \u001b[1m0s\u001b[0m 23ms/step - accuracy: 0.5421 - loss: 0.7978 - val_accuracy: 0.5000 - val_loss: 0.7862\n",
            "Epoch 13/50\n",
            "\u001b[1m4/4\u001b[0m \u001b[32m━━━━━━━━━━━━━━━━━━━━\u001b[0m\u001b[37m\u001b[0m \u001b[1m0s\u001b[0m 25ms/step - accuracy: 0.6181 - loss: 0.7779 - val_accuracy: 0.5833 - val_loss: 0.7758\n",
            "Epoch 14/50\n",
            "\u001b[1m4/4\u001b[0m \u001b[32m━━━━━━━━━━━━━━━━━━━━\u001b[0m\u001b[37m\u001b[0m \u001b[1m0s\u001b[0m 23ms/step - accuracy: 0.7782 - loss: 0.7517 - val_accuracy: 0.6667 - val_loss: 0.7661\n",
            "Epoch 15/50\n",
            "\u001b[1m4/4\u001b[0m \u001b[32m━━━━━━━━━━━━━━━━━━━━\u001b[0m\u001b[37m\u001b[0m \u001b[1m0s\u001b[0m 23ms/step - accuracy: 0.7946 - loss: 0.7382 - val_accuracy: 0.6667 - val_loss: 0.7564\n",
            "Epoch 16/50\n",
            "\u001b[1m4/4\u001b[0m \u001b[32m━━━━━━━━━━━━━━━━━━━━\u001b[0m\u001b[37m\u001b[0m \u001b[1m0s\u001b[0m 23ms/step - accuracy: 0.8160 - loss: 0.7350 - val_accuracy: 0.6667 - val_loss: 0.7469\n",
            "Epoch 17/50\n",
            "\u001b[1m4/4\u001b[0m \u001b[32m━━━━━━━━━━━━━━━━━━━━\u001b[0m\u001b[37m\u001b[0m \u001b[1m0s\u001b[0m 25ms/step - accuracy: 0.8009 - loss: 0.7184 - val_accuracy: 0.6667 - val_loss: 0.7376\n",
            "Epoch 18/50\n",
            "\u001b[1m4/4\u001b[0m \u001b[32m━━━━━━━━━━━━━━━━━━━━\u001b[0m\u001b[37m\u001b[0m \u001b[1m0s\u001b[0m 23ms/step - accuracy: 0.8427 - loss: 0.6950 - val_accuracy: 0.6667 - val_loss: 0.7287\n",
            "Epoch 19/50\n",
            "\u001b[1m4/4\u001b[0m \u001b[32m━━━━━━━━━━━━━━━━━━━━\u001b[0m\u001b[37m\u001b[0m \u001b[1m0s\u001b[0m 23ms/step - accuracy: 0.8433 - loss: 0.6792 - val_accuracy: 0.6667 - val_loss: 0.7201\n",
            "Epoch 20/50\n",
            "\u001b[1m4/4\u001b[0m \u001b[32m━━━━━━━━━━━━━━━━━━━━\u001b[0m\u001b[37m\u001b[0m \u001b[1m0s\u001b[0m 26ms/step - accuracy: 0.8558 - loss: 0.6544 - val_accuracy: 0.6667 - val_loss: 0.7126\n",
            "Epoch 21/50\n",
            "\u001b[1m4/4\u001b[0m \u001b[32m━━━━━━━━━━━━━━━━━━━━\u001b[0m\u001b[37m\u001b[0m \u001b[1m0s\u001b[0m 23ms/step - accuracy: 0.8433 - loss: 0.6460 - val_accuracy: 0.6667 - val_loss: 0.7059\n",
            "Epoch 22/50\n",
            "\u001b[1m4/4\u001b[0m \u001b[32m━━━━━━━━━━━━━━━━━━━━\u001b[0m\u001b[37m\u001b[0m \u001b[1m0s\u001b[0m 22ms/step - accuracy: 0.8402 - loss: 0.6398 - val_accuracy: 0.6667 - val_loss: 0.6990\n",
            "Epoch 23/50\n",
            "\u001b[1m4/4\u001b[0m \u001b[32m━━━━━━━━━━━━━━━━━━━━\u001b[0m\u001b[37m\u001b[0m \u001b[1m0s\u001b[0m 25ms/step - accuracy: 0.8464 - loss: 0.6211 - val_accuracy: 0.6667 - val_loss: 0.6923\n",
            "Epoch 24/50\n",
            "\u001b[1m4/4\u001b[0m \u001b[32m━━━━━━━━━━━━━━━━━━━━\u001b[0m\u001b[37m\u001b[0m \u001b[1m0s\u001b[0m 23ms/step - accuracy: 0.8443 - loss: 0.6087 - val_accuracy: 0.6667 - val_loss: 0.6856\n",
            "Epoch 25/50\n",
            "\u001b[1m4/4\u001b[0m \u001b[32m━━━━━━━━━━━━━━━━━━━━\u001b[0m\u001b[37m\u001b[0m \u001b[1m0s\u001b[0m 23ms/step - accuracy: 0.8308 - loss: 0.6035 - val_accuracy: 0.6667 - val_loss: 0.6792\n",
            "Epoch 26/50\n",
            "\u001b[1m4/4\u001b[0m \u001b[32m━━━━━━━━━━━━━━━━━━━━\u001b[0m\u001b[37m\u001b[0m \u001b[1m0s\u001b[0m 22ms/step - accuracy: 0.8589 - loss: 0.5721 - val_accuracy: 0.6667 - val_loss: 0.6728\n",
            "Epoch 27/50\n",
            "\u001b[1m4/4\u001b[0m \u001b[32m━━━━━━━━━━━━━━━━━━━━\u001b[0m\u001b[37m\u001b[0m \u001b[1m0s\u001b[0m 24ms/step - accuracy: 0.8631 - loss: 0.5565 - val_accuracy: 0.6667 - val_loss: 0.6665\n",
            "Epoch 28/50\n",
            "\u001b[1m4/4\u001b[0m \u001b[32m━━━━━━━━━━━━━━━━━━━━\u001b[0m\u001b[37m\u001b[0m \u001b[1m0s\u001b[0m 24ms/step - accuracy: 0.8568 - loss: 0.5526 - val_accuracy: 0.6667 - val_loss: 0.6604\n",
            "Epoch 29/50\n",
            "\u001b[1m4/4\u001b[0m \u001b[32m━━━━━━━━━━━━━━━━━━━━\u001b[0m\u001b[37m\u001b[0m \u001b[1m0s\u001b[0m 23ms/step - accuracy: 0.8120 - loss: 0.5621 - val_accuracy: 0.6667 - val_loss: 0.6547\n",
            "Epoch 30/50\n",
            "\u001b[1m4/4\u001b[0m \u001b[32m━━━━━━━━━━━━━━━━━━━━\u001b[0m\u001b[37m\u001b[0m \u001b[1m0s\u001b[0m 27ms/step - accuracy: 0.8417 - loss: 0.5282 - val_accuracy: 0.6667 - val_loss: 0.6487\n",
            "Epoch 31/50\n",
            "\u001b[1m4/4\u001b[0m \u001b[32m━━━━━━━━━━━━━━━━━━━━\u001b[0m\u001b[37m\u001b[0m \u001b[1m0s\u001b[0m 23ms/step - accuracy: 0.8313 - loss: 0.5294 - val_accuracy: 0.6667 - val_loss: 0.6429\n",
            "Epoch 32/50\n",
            "\u001b[1m4/4\u001b[0m \u001b[32m━━━━━━━━━━━━━━━━━━━━\u001b[0m\u001b[37m\u001b[0m \u001b[1m0s\u001b[0m 23ms/step - accuracy: 0.8198 - loss: 0.5261 - val_accuracy: 0.6667 - val_loss: 0.6368\n",
            "Epoch 33/50\n",
            "\u001b[1m4/4\u001b[0m \u001b[32m━━━━━━━━━━━━━━━━━━━━\u001b[0m\u001b[37m\u001b[0m \u001b[1m0s\u001b[0m 26ms/step - accuracy: 0.8729 - loss: 0.4865 - val_accuracy: 0.6667 - val_loss: 0.6309\n",
            "Epoch 34/50\n",
            "\u001b[1m4/4\u001b[0m \u001b[32m━━━━━━━━━━━━━━━━━━━━\u001b[0m\u001b[37m\u001b[0m \u001b[1m0s\u001b[0m 24ms/step - accuracy: 0.8417 - loss: 0.4789 - val_accuracy: 0.6667 - val_loss: 0.6254\n",
            "Epoch 35/50\n",
            "\u001b[1m4/4\u001b[0m \u001b[32m━━━━━━━━━━━━━━━━━━━━\u001b[0m\u001b[37m\u001b[0m \u001b[1m0s\u001b[0m 23ms/step - accuracy: 0.8510 - loss: 0.4791 - val_accuracy: 0.6667 - val_loss: 0.6199\n",
            "Epoch 36/50\n",
            "\u001b[1m4/4\u001b[0m \u001b[32m━━━━━━━━━━━━━━━━━━━━\u001b[0m\u001b[37m\u001b[0m \u001b[1m0s\u001b[0m 24ms/step - accuracy: 0.8031 - loss: 0.4837 - val_accuracy: 0.6667 - val_loss: 0.6146\n",
            "Epoch 37/50\n",
            "\u001b[1m4/4\u001b[0m \u001b[32m━━━━━━━━━━━━━━━━━━━━\u001b[0m\u001b[37m\u001b[0m \u001b[1m0s\u001b[0m 23ms/step - accuracy: 0.8469 - loss: 0.4572 - val_accuracy: 0.6667 - val_loss: 0.6087\n",
            "Epoch 38/50\n",
            "\u001b[1m4/4\u001b[0m \u001b[32m━━━━━━━━━━━━━━━━━━━━\u001b[0m\u001b[37m\u001b[0m \u001b[1m0s\u001b[0m 24ms/step - accuracy: 0.8119 - loss: 0.4639 - val_accuracy: 0.6667 - val_loss: 0.6031\n",
            "Epoch 39/50\n",
            "\u001b[1m4/4\u001b[0m \u001b[32m━━━━━━━━━━━━━━━━━━━━\u001b[0m\u001b[37m\u001b[0m \u001b[1m0s\u001b[0m 23ms/step - accuracy: 0.8375 - loss: 0.4324 - val_accuracy: 0.6667 - val_loss: 0.5973\n",
            "Epoch 40/50\n",
            "\u001b[1m4/4\u001b[0m \u001b[32m━━━━━━━━━━━━━━━━━━━━\u001b[0m\u001b[37m\u001b[0m \u001b[1m0s\u001b[0m 30ms/step - accuracy: 0.8615 - loss: 0.4114 - val_accuracy: 0.6667 - val_loss: 0.5919\n",
            "Epoch 41/50\n",
            "\u001b[1m4/4\u001b[0m \u001b[32m━━━━━━━━━━━━━━━━━━━━\u001b[0m\u001b[37m\u001b[0m \u001b[1m0s\u001b[0m 23ms/step - accuracy: 0.8354 - loss: 0.4282 - val_accuracy: 0.6667 - val_loss: 0.5868\n",
            "Epoch 42/50\n",
            "\u001b[1m4/4\u001b[0m \u001b[32m━━━━━━━━━━━━━━━━━━━━\u001b[0m\u001b[37m\u001b[0m \u001b[1m0s\u001b[0m 23ms/step - accuracy: 0.8469 - loss: 0.4057 - val_accuracy: 0.6667 - val_loss: 0.5820\n",
            "Epoch 43/50\n",
            "\u001b[1m4/4\u001b[0m \u001b[32m━━━━━━━━━━━━━━━━━━━━\u001b[0m\u001b[37m\u001b[0m \u001b[1m0s\u001b[0m 23ms/step - accuracy: 0.8365 - loss: 0.4111 - val_accuracy: 0.6667 - val_loss: 0.5776\n",
            "Epoch 44/50\n",
            "\u001b[1m4/4\u001b[0m \u001b[32m━━━━━━━━━━━━━━━━━━━━\u001b[0m\u001b[37m\u001b[0m \u001b[1m0s\u001b[0m 23ms/step - accuracy: 0.8281 - loss: 0.4138 - val_accuracy: 0.6667 - val_loss: 0.5730\n",
            "Epoch 45/50\n",
            "\u001b[1m4/4\u001b[0m \u001b[32m━━━━━━━━━━━━━━━━━━━━\u001b[0m\u001b[37m\u001b[0m \u001b[1m0s\u001b[0m 25ms/step - accuracy: 0.8182 - loss: 0.4044 - val_accuracy: 0.7500 - val_loss: 0.5685\n",
            "Epoch 46/50\n",
            "\u001b[1m4/4\u001b[0m \u001b[32m━━━━━━━━━━━━━━━━━━━━\u001b[0m\u001b[37m\u001b[0m \u001b[1m0s\u001b[0m 23ms/step - accuracy: 0.8015 - loss: 0.4010 - val_accuracy: 0.7500 - val_loss: 0.5640\n",
            "Epoch 47/50\n",
            "\u001b[1m4/4\u001b[0m \u001b[32m━━━━━━━━━━━━━━━━━━━━\u001b[0m\u001b[37m\u001b[0m \u001b[1m0s\u001b[0m 24ms/step - accuracy: 0.7963 - loss: 0.4057 - val_accuracy: 0.7500 - val_loss: 0.5596\n",
            "Epoch 48/50\n",
            "\u001b[1m4/4\u001b[0m \u001b[32m━━━━━━━━━━━━━━━━━━━━\u001b[0m\u001b[37m\u001b[0m \u001b[1m0s\u001b[0m 24ms/step - accuracy: 0.8432 - loss: 0.3598 - val_accuracy: 0.7500 - val_loss: 0.5554\n",
            "Epoch 49/50\n",
            "\u001b[1m4/4\u001b[0m \u001b[32m━━━━━━━━━━━━━━━━━━━━\u001b[0m\u001b[37m\u001b[0m \u001b[1m0s\u001b[0m 23ms/step - accuracy: 0.8510 - loss: 0.3565 - val_accuracy: 0.7500 - val_loss: 0.5509\n",
            "Epoch 50/50\n",
            "\u001b[1m4/4\u001b[0m \u001b[32m━━━━━━━━━━━━━━━━━━━━\u001b[0m\u001b[37m\u001b[0m \u001b[1m0s\u001b[0m 28ms/step - accuracy: 0.8271 - loss: 0.3742 - val_accuracy: 0.7500 - val_loss: 0.5471\n",
            "\u001b[1m1/1\u001b[0m \u001b[32m━━━━━━━━━━━━━━━━━━━━\u001b[0m\u001b[37m\u001b[0m \u001b[1m0s\u001b[0m 44ms/step - accuracy: 0.8667 - loss: 0.3410\n",
            "Loss: 0.3410\n",
            "Accuracy: 0.8667\n",
            "\u001b[1m1/1\u001b[0m \u001b[32m━━━━━━━━━━━━━━━━━━━━\u001b[0m\u001b[37m\u001b[0m \u001b[1m0s\u001b[0m 72ms/step\n",
            "previsão: [[3.63175273e-02 5.11900425e-01 4.51782107e-01]\n",
            " [8.14761758e-01 1.05637334e-01 7.96008483e-02]\n",
            " [2.34411600e-05 7.48530403e-02 9.25123453e-01]\n",
            " [2.86335927e-02 4.09355521e-01 5.62010884e-01]\n",
            " [1.44351553e-02 3.09081048e-01 6.76483750e-01]\n",
            " [8.21516454e-01 1.07277066e-01 7.12063313e-02]\n",
            " [1.61821365e-01 5.45107603e-01 2.93070912e-01]\n",
            " [1.06006593e-03 1.98165834e-01 8.00774097e-01]\n",
            " [3.05035012e-03 4.83238995e-01 5.13710618e-01]\n",
            " [6.44303188e-02 6.02599859e-01 3.32969785e-01]\n",
            " [4.21044556e-03 2.63382733e-01 7.32406855e-01]\n",
            " [8.95998120e-01 7.79104233e-02 2.60914173e-02]\n",
            " [8.42699766e-01 9.53844264e-02 6.19157851e-02]\n",
            " [8.89115214e-01 8.12898427e-02 2.95948479e-02]\n",
            " [8.66270065e-01 8.02526772e-02 5.34772202e-02]\n",
            " [3.19140144e-02 3.74032974e-01 5.94052970e-01]\n",
            " [6.42334169e-04 1.75521985e-01 8.23835611e-01]\n",
            " [3.77564691e-02 7.29886591e-01 2.32356906e-01]\n",
            " [3.63958403e-02 6.08896732e-01 3.54707420e-01]\n",
            " [5.46037161e-04 1.71859398e-01 8.27594578e-01]\n",
            " [8.99312019e-01 7.21634403e-02 2.85244733e-02]\n",
            " [8.36301874e-03 2.94809848e-01 6.96827173e-01]\n",
            " [8.68099213e-01 8.14143047e-02 5.04864454e-02]\n",
            " [7.56251160e-04 1.82332680e-01 8.16911042e-01]\n",
            " [1.57841248e-03 2.14940891e-01 7.83480704e-01]\n",
            " [8.51732679e-04 1.87807232e-01 8.11340988e-01]\n",
            " [6.70122041e-04 2.02259988e-01 7.97069848e-01]\n",
            " [5.24079020e-04 1.70976192e-01 8.28499734e-01]\n",
            " [8.85714293e-01 8.08284953e-02 3.34572829e-02]\n",
            " [8.87537837e-01 8.16550702e-02 3.08070667e-02]]\n"
          ]
        }
      ]
    },
    {
      "cell_type": "code",
      "metadata": {
        "id": "bb1d04a3"
      },
      "source": [
        "# Fazer Previsões\n",
        "predictions = model.predict(X_test_scaled)\n",
        "\n",
        "# Converter as previsões para classes\n",
        "predicted_classes = tf.argmax(predictions, axis=1).numpy()\n",
        "\n",
        "# Criar um DataFrame para comparar as previsões com os valores reais\n",
        "df_resultados = pd.DataFrame({'Previsto': predicted_classes, 'Real': y_test})\n",
        "display(df_resultados)"
      ],
      "execution_count": null,
      "outputs": []
    },
    {
      "cell_type": "code",
      "metadata": {
        "id": "0d6dc9a4"
      },
      "source": [
        "# Avaliar o modelo\n",
        "loss, accuracy = model.evaluate(X_test_scaled, y_test)\n",
        "print(f'Loss: {loss:.4f}')\n",
        "print(f'Accuracy: {accuracy:.4f}')"
      ],
      "execution_count": null,
      "outputs": []
    },
    {
      "cell_type": "code",
      "metadata": {
        "id": "9bd73075"
      },
      "source": [
        "# Compilar o modelo\n",
        "model.compile(optimizer='adam',\n",
        "              loss='sparse_categorical_crossentropy',\n",
        "              metrics=['accuracy'])\n",
        "\n",
        "# Treinar o modelo\n",
        "history = model.fit(X_train_scaled, y_train, epochs=50, batch_size=32, validation_split=0.1)"
      ],
      "execution_count": null,
      "outputs": []
    },
    {
      "cell_type": "code",
      "metadata": {
        "id": "8b543f1f"
      },
      "source": [
        "# Construir o modelo\n",
        "model = tf.keras.Sequential([\n",
        "    tf.keras.layers.Dense(10, activation='relu', input_shape=(X_train_scaled.shape[1],)),\n",
        "    tf.keras.layers.Dense(10, activation='relu'),\n",
        "    tf.keras.layers.Dense(3, activation='softmax') # 3 classes for Iris dataset\n",
        "])"
      ],
      "execution_count": null,
      "outputs": []
    },
    {
      "cell_type": "code",
      "metadata": {
        "id": "397a104f"
      },
      "source": [
        "# Dividir conjunto de dados em treinamento e teste\n",
        "X_train, X_test, y_train, y_test = train_test_split(X, y, test_size=0.2, random_state=42)\n",
        "\n"
      ],
      "execution_count": null,
      "outputs": []
    }
  ]
}