{
  "nbformat": 4,
  "nbformat_minor": 0,
  "metadata": {
    "colab": {
      "provenance": [],
      "authorship_tag": "ABX9TyMD2hP3JVI8/SKKgOPCdl7p",
      "include_colab_link": true
    },
    "kernelspec": {
      "name": "python3",
      "display_name": "Python 3"
    },
    "language_info": {
      "name": "python"
    }
  },
  "cells": [
    {
      "cell_type": "markdown",
      "metadata": {
        "id": "view-in-github",
        "colab_type": "text"
      },
      "source": [
        "<a href=\"https://colab.research.google.com/github/Matheus-AJ/Aulas/blob/main/Untitled12.ipynb\" target=\"_parent\"><img src=\"https://colab.research.google.com/assets/colab-badge.svg\" alt=\"Open In Colab\"/></a>"
      ]
    },
    {
      "cell_type": "code",
      "source": [
        "chuva =False\n",
        "\n",
        "if chuva:\n",
        "    print(\"pegue seu guarda chuvas\")\n",
        "else:\n",
        "    print(\"Aproveite o clima\")\n",
        "\n"
      ],
      "metadata": {
        "colab": {
          "base_uri": "https://localhost:8080/"
        },
        "id": "YmpChpLD-nK1",
        "outputId": "b755c88a-1d4e-40b0-cd29-b68f6fb8fea7"
      },
      "execution_count": 3,
      "outputs": [
        {
          "output_type": "stream",
          "name": "stdout",
          "text": [
            "Aproveite o clima\n"
          ]
        }
      ]
    },
    {
      "cell_type": "code",
      "execution_count": 21,
      "metadata": {
        "colab": {
          "base_uri": "https://localhost:8080/"
        },
        "id": "nu2zwdlr3QmS",
        "outputId": "4b84ce4f-8484-4e17-f160-6883580a60f0"
      },
      "outputs": [
        {
          "output_type": "stream",
          "name": "stdout",
          "text": [
            "tipo de dados da variavel 'numerosPrimos' : <class 'list'>\n",
            "2 3\n"
          ]
        }
      ],
      "source": [
        "#listas (list)\n",
        "numerosprimos = [2,3,5,7,]\n",
        "print(\"tipo de dados da variavel 'numerosPrimos' :\", type(numerosprimos))\n",
        "print(numerosprimos[0], numerosprimos[1])\n"
      ]
    },
    {
      "cell_type": "code",
      "source": [
        "num5 = float(input(\"digite um numero inteiro: \"))\n",
        "if round(num5)%2 == 0:\n",
        "    print(f\"o numero {num5} é par\")\n",
        "else:\n",
        "    print(f\"o numero {num5} é impar\")"
      ],
      "metadata": {
        "colab": {
          "base_uri": "https://localhost:8080/"
        },
        "id": "vXScnUN9ZFCs",
        "outputId": "8f5bf6b5-b6e6-4a78-b638-64f4ef2a2fb3"
      },
      "execution_count": 33,
      "outputs": [
        {
          "output_type": "stream",
          "name": "stdout",
          "text": [
            "digite um numero inteiro: 11\n",
            "o numero 11.0 é impar\n"
          ]
        }
      ]
    },
    {
      "cell_type": "code",
      "source": [
        "#exponenciação\n",
        "3**2"
      ],
      "metadata": {
        "colab": {
          "base_uri": "https://localhost:8080/"
        },
        "id": "jDtpOxIzbiku",
        "outputId": "acf1127e-d06b-414a-820c-5c61fa56fa11"
      },
      "execution_count": 34,
      "outputs": [
        {
          "output_type": "execute_result",
          "data": {
            "text/plain": [
              "9"
            ]
          },
          "metadata": {},
          "execution_count": 34
        }
      ]
    },
    {
      "cell_type": "code",
      "source": [
        "#exponenciação\n",
        "import math\n",
        "print(math.pow(3,2))"
      ],
      "metadata": {
        "colab": {
          "base_uri": "https://localhost:8080/"
        },
        "id": "SKlU8eLcbqWr",
        "outputId": "eb7810b8-4cb1-4a79-a2e1-3916819a56df"
      },
      "execution_count": 35,
      "outputs": [
        {
          "output_type": "stream",
          "name": "stdout",
          "text": [
            "9.0\n"
          ]
        }
      ]
    },
    {
      "cell_type": "code",
      "source": [
        "#radiciação\n",
        "math.sqrt(9)"
      ],
      "metadata": {
        "colab": {
          "base_uri": "https://localhost:8080/"
        },
        "id": "ShP1vhyBcN2L",
        "outputId": "eacb66bc-af94-46b1-87f4-87ac4d51af08"
      },
      "execution_count": 36,
      "outputs": [
        {
          "output_type": "execute_result",
          "data": {
            "text/plain": [
              "3.0"
            ]
          },
          "metadata": {},
          "execution_count": 36
        }
      ]
    }
  ]
}