{
  "nbformat": 4,
  "nbformat_minor": 0,
  "metadata": {
    "colab": {
      "provenance": [],
      "authorship_tag": "ABX9TyNHFdBtb+ZHgs7pbCt2J4CJ",
      "include_colab_link": true
    },
    "kernelspec": {
      "name": "python3",
      "display_name": "Python 3"
    },
    "language_info": {
      "name": "python"
    }
  },
  "cells": [
    {
      "cell_type": "markdown",
      "metadata": {
        "id": "view-in-github",
        "colab_type": "text"
      },
      "source": [
        "<a href=\"https://colab.research.google.com/github/Matheus-AJ/Aulas/blob/main/Aula_da_faculdade12.ipynb\" target=\"_parent\"><img src=\"https://colab.research.google.com/assets/colab-badge.svg\" alt=\"Open In Colab\"/></a>"
      ]
    },
    {
      "cell_type": "code",
      "execution_count": 9,
      "metadata": {
        "colab": {
          "base_uri": "https://localhost:8080/"
        },
        "id": "OdSqG44J1fzl",
        "outputId": "c29ae7fe-adf9-40ab-bd2a-1c825a314f56"
      },
      "outputs": [
        {
          "output_type": "stream",
          "name": "stdout",
          "text": [
            "insira a nota 1: 7\n",
            "insira a nota 2: 8\n",
            "insira a  nota 3: 9\n",
            "insira a nota 4: 7\n",
            "Relatório Final do Aluno:\n",
            "--------------------------\n",
            "Notas inseridas: (7.0, 8.0, 9.0, 7.0)\n",
            "Média: 7.75\n",
            "Status: aprovado\n",
            "--------------------------\n"
          ]
        }
      ],
      "source": [
        "nota1= float(input(\"insira a nota 1: \"))\n",
        "nota2= float(input(\"insira a nota 2: \"))\n",
        "nota3= float(input(\"insira a  nota 3: \"))\n",
        "nota4= float(input(\"insira a nota 4: \"))\n",
        "\n",
        "notas_inseridas= nota1, nota2, nota3, nota4\n",
        "media= (nota1+nota2+nota3+nota4)/4\n",
        "\n",
        "status = \"aprovado\" if media >= 7 else \"reprovado\"\n",
        "\n",
        "print(\"Relatório Final do Aluno:\")\n",
        "print(\"--------------------------\")\n",
        "print(f\"Notas inseridas: {notas_inseridas}\")\n",
        "print(f\"Média: {media}\")\n",
        "print(f\"Status: {status}\")\n",
        "print(\"--------------------------\")"
      ]
    }
  ]
}